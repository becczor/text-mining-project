{
 "cells": [
  {
   "cell_type": "markdown",
   "metadata": {},
   "source": [
    "# Bias in word embeddings\n",
    "Word embeddings is a technique in NLP and text mining to represent words in order to be able to compare words based on similarity. The word embeddings are trained on large data sets with text written by humans. Therefore, the bias we have and include in our writungs will be transferred to the word embeddings. This project looks at what bias there are in the swedish word embeddings \"Swectors\" based on text from Göteborgsposten. They will also be compared with another set of word ebedding that will be trained on antoher set of data."
   ]
  },
  {
   "cell_type": "code",
   "execution_count": 2,
   "metadata": {},
   "outputs": [],
   "source": [
    "import bz2\n",
    "import pandas as pd\n",
    "import numpy as np\n",
    "import time"
   ]
  },
  {
   "cell_type": "markdown",
   "metadata": {},
   "source": [
    "## Importing datasets\n",
    "Importing the large set of vectors might take a little while, please be patient."
   ]
  },
  {
   "cell_type": "code",
   "execution_count": 2,
   "metadata": {},
   "outputs": [],
   "source": [
    "colnames = [\"word\"] + [\"dim\" + str(x) for x in range(1,301)]\n",
    "\n",
    "with bz2.open(\"swectors.txt.bz2\") as source:\n",
    "    swectors = pd.read_csv(source, header=None, names=colnames, delimiter=\" \", skiprows=[0])\n",
    "    \n",
    "familjevectors = pd.read_csv(\"familjevectors.zip\", header=None, names=colnames, delimiter=\" \", skiprows=[0])\n",
    "\n",
    "flashvectors = pd.read_csv(\"flashvectors.zip\", header=None, names=colnames, delimiter=\" \", skiprows=[0])\n",
    "    \n",
    "#swectors.tail()"
   ]
  },
  {
   "cell_type": "markdown",
   "metadata": {},
   "source": [
    "### Import small sized dataset"
   ]
  },
  {
   "cell_type": "markdown",
   "metadata": {},
   "source": [
    "colnames = [\"word\"] + [\"dim\" + str(x) for x in range(1,301)]\n",
    "with bz2.open(\"swectors_short-300dim.txt.bz2\") as source:\n",
    "    swectors_short = pd.read_csv(source, header=None, names=colnames, delimiter=\" \", skiprows=[0])\n",
    "    \n",
    "swectors_short.tail()"
   ]
  },
  {
   "cell_type": "markdown",
   "metadata": {},
   "source": [
    "Extract the vector for the word 'kvinna', in order to look att similar words for bias measures.\n",
    "Get the 300 dimensions from the dataframe, convert to numpy and get the following format: `[[dim1 dim2 ... dim299 dim300]]`, take the first element to get a single list. Save it as a tuple with word first and vector second."
   ]
  },
  {
   "cell_type": "code",
   "execution_count": 3,
   "metadata": {},
   "outputs": [],
   "source": [
    "def get_word_vector(vectors, word):\n",
    "    return (word, vectors.loc[vectors['word'] == word].loc[:, 'dim1':'dim300'].to_numpy()[0])"
   ]
  },
  {
   "cell_type": "code",
   "execution_count": 4,
   "metadata": {},
   "outputs": [],
   "source": [
    "kvinna_s = get_word_vector(swectors, 'kvinna')\n",
    "man_s = get_word_vector(swectors, 'man')\n",
    "\n",
    "kvinna_fam = get_word_vector(familjevectors, 'kvinna')\n",
    "man_fam = get_word_vector(familjevectors, 'man')\n",
    "\n",
    "kvinna_flash = get_word_vector(flashvectors, 'kvinna')\n",
    "man_flash = get_word_vector(flashvectors, 'man')"
   ]
  },
  {
   "cell_type": "code",
   "execution_count": 6,
   "metadata": {},
   "outputs": [],
   "source": [
    "def cosine_similarity(word1, word2):\n",
    "    # Takes two vectors and calculates the cosine similarity between them\n",
    "    # @ is dot product\n",
    "    v1 = word1[1]\n",
    "    v2 = word2[1]\n",
    "    return (v1 @ v2) / (np.linalg.norm(v1)*np.linalg.norm(v2))"
   ]
  },
  {
   "cell_type": "code",
   "execution_count": 7,
   "metadata": {},
   "outputs": [
    {
     "name": "stdout",
     "output_type": "stream",
     "text": [
      "Swectors: 0.3581906572935491\n",
      "Familje: 0.1536098160481569\n",
      "Flash: 0.24343163718296817\n"
     ]
    }
   ],
   "source": [
    "print('Swectors:', cosine_similarity(kvinna_s, man_s))\n",
    "print('Familje:', cosine_similarity(kvinna_fam, man_fam))\n",
    "print('Flash:', cosine_similarity(kvinna_flash, man_flash))"
   ]
  },
  {
   "cell_type": "markdown",
   "metadata": {},
   "source": [
    "## Applying function to whole dataframe\n",
    "This way of doing the calculation will apply a function to each row of the dataframe, and return a Series of same length with all results in it."
   ]
  },
  {
   "cell_type": "code",
   "execution_count": 8,
   "metadata": {},
   "outputs": [],
   "source": [
    "def n_most_similar(vectors, n, word, vectors_filtered=None):\n",
    "    \n",
    "    if vectors_filtered is not None:\n",
    "        df = vectors_filtered\n",
    "        print(\"filtered\")\n",
    "    else:\n",
    "        df = vectors\n",
    "        print(\"not filtered\")\n",
    "        \n",
    "    word_vec = get_word_vector(vectors, word)\n",
    "    \n",
    "    def similarity(row):\n",
    "        row_vec = (row['word'], row.loc['dim1':'dim300'].to_numpy())\n",
    "        return cosine_similarity(word_vec, row_vec)\n",
    "\n",
    "    start = time.time()\n",
    "    similarities = df.apply(similarity, axis=1)\n",
    "\n",
    "    # Concatenate the top n words (plus the word itself) to the similarity values of each word.\n",
    "    # Also set the correct coulmn name.\n",
    "    s1 = df.loc[similarities.nlargest(n+1).index, 'word']\n",
    "    s2 = similarities.nlargest(n+1)\n",
    "    similars = pd.concat([s1, s2], axis=1).rename(columns={0: \"similarity\"})\n",
    "    end = time.time()\n",
    "    print(\"Time elapsed: \", end - start)\n",
    "    return similars"
   ]
  },
  {
   "cell_type": "code",
   "execution_count": 9,
   "metadata": {},
   "outputs": [],
   "source": [
    "def gender_similarity_difference(vectors, single_word, plural_word=None):\n",
    "    \n",
    "    word_vec_single = get_word_vector(vectors, single_word)\n",
    "    \n",
    "    if plural_word is not None:\n",
    "        word_vec_plural = get_word_vector(vectors, plural_word)\n",
    "    else:\n",
    "        word_vec_plural = word_vec_single\n",
    "    \n",
    "    res = {}\n",
    "    res['kvinna'] = cosine_similarity(word_vec_single, get_word_vector(vectors, 'kvinna'))\n",
    "    res['kvinnan'] = cosine_similarity(word_vec_single, get_word_vector(vectors, 'kvinnan'))\n",
    "    res['kvinnlig'] = cosine_similarity(word_vec_single, get_word_vector(vectors, 'kvinnlig'))\n",
    "    \n",
    "    res['man'] = cosine_similarity(word_vec_single, get_word_vector(vectors, 'man'))\n",
    "    res['mannen'] = cosine_similarity(word_vec_single, get_word_vector(vectors, 'mannen'))\n",
    "    res['manlig'] = cosine_similarity(word_vec_single, get_word_vector(vectors, 'manlig'))\n",
    "    \n",
    "    res['kvinnor'] = cosine_similarity(word_vec_plural, get_word_vector(vectors, 'kvinnor'))\n",
    "    res['kvinnorna'] = cosine_similarity(word_vec_plural, get_word_vector(vectors, 'kvinnorna'))\n",
    "    res['kvinnliga'] = cosine_similarity(word_vec_plural, get_word_vector(vectors, 'kvinnliga'))\n",
    "    \n",
    "    res['män'] = cosine_similarity(word_vec_plural, get_word_vector(vectors, 'män'))\n",
    "    res['männen'] = cosine_similarity(word_vec_plural, get_word_vector(vectors, 'männen'))\n",
    "    res['manliga'] = cosine_similarity(word_vec_plural, get_word_vector(vectors, 'manliga'))\n",
    "    \n",
    "    \n",
    "    \n",
    "    return res"
   ]
  },
  {
   "cell_type": "code",
   "execution_count": 14,
   "metadata": {},
   "outputs": [
    {
     "data": {
      "text/plain": [
       "{'kvinna': 0.46760799254621666,\n",
       " 'kvinnan': 0.2755152308911619,\n",
       " 'kvinnlig': 0.4027155559287831,\n",
       " 'man': 0.10020534787239237,\n",
       " 'mannen': 0.1957895923357652,\n",
       " 'manlig': 0.30929783542786066,\n",
       " 'kvinnor': 0.14743792842666,\n",
       " 'kvinnorna': 0.11731806225236029,\n",
       " 'kvinnliga': 0.17153224173838297,\n",
       " 'män': 0.12394941960243178,\n",
       " 'männen': 0.11123897598169297,\n",
       " 'manliga': 0.10089858305380585}"
      ]
     },
     "execution_count": 14,
     "metadata": {},
     "output_type": "execute_result"
    }
   ],
   "source": [
    "gender_similarity_difference(flashvectors, 'sjuksköterska')"
   ]
  },
  {
   "cell_type": "code",
   "execution_count": 37,
   "metadata": {},
   "outputs": [
    {
     "name": "stdout",
     "output_type": "stream",
     "text": [
      "not filtered\n",
      "Time elapsed:  29.304189920425415\n",
      "               word  similarity\n",
      "542          kvinna    1.000000\n",
      "2269         flicka    0.778604\n",
      "646         kvinnan    0.687048\n",
      "2957          pojke    0.676086\n",
      "2972           tjej    0.673264\n",
      "497          person    0.671946\n",
      "58745  tonårsflicka    0.645879\n",
      "16134       yngling    0.606193\n",
      "10872       väninna    0.603767\n",
      "3471            dam    0.596047\n",
      "11426      polisman    0.593694\n"
     ]
    }
   ],
   "source": [
    "similars_kvinna_s = n_most_similar(swectors, 10, 'kvinna')\n",
    "print(similars_kvinna_s)"
   ]
  },
  {
   "cell_type": "code",
   "execution_count": 38,
   "metadata": {},
   "outputs": [
    {
     "name": "stdout",
     "output_type": "stream",
     "text": [
      "not filtered\n",
      "Time elapsed:  14.932774066925049\n",
      "              word  similarity\n",
      "1153        kvinna    1.000000\n",
      "636           tjej    0.689873\n",
      "1194      människa    0.651235\n",
      "579         person    0.630777\n",
      "4849           dam    0.628756\n",
      "5632          brud    0.600699\n",
      "673          kille    0.595686\n",
      "1987        flicka    0.558922\n",
      "1960       kvinnan    0.552127\n",
      "8354        snubbe    0.538014\n",
      "91505  kvinnokropp    0.525616\n"
     ]
    }
   ],
   "source": [
    "similars_kvinna_fam = n_most_similar(familjevectors, 10, 'kvinna')\n",
    "print(similars_kvinna_fam)"
   ]
  },
  {
   "cell_type": "code",
   "execution_count": 39,
   "metadata": {},
   "outputs": [
    {
     "name": "stdout",
     "output_type": "stream",
     "text": [
      "not filtered\n",
      "Time elapsed:  28.88240385055542\n",
      "         word  similarity\n",
      "381    kvinna    1.000000\n",
      "3765      dam    0.768512\n",
      "181      tjej    0.752394\n",
      "3568     karl    0.746014\n",
      "2183   flicka    0.736183\n",
      "256     kille    0.697204\n",
      "7938     hona    0.692251\n",
      "10855     tös    0.690076\n",
      "9738    donna    0.684831\n",
      "280    person    0.670705\n",
      "2510    pojke    0.663436\n"
     ]
    }
   ],
   "source": [
    "similars_kvinna_flash = n_most_similar(flashvectors, 10, 'kvinna')\n",
    "print(similars_kvinna_flash)"
   ]
  },
  {
   "cell_type": "code",
   "execution_count": 40,
   "metadata": {},
   "outputs": [
    {
     "name": "stdout",
     "output_type": "stream",
     "text": [
      "not filtered\n",
      "Time elapsed:  31.024073600769043\n",
      "                word  similarity\n",
      "417              män    1.000000\n",
      "322          kvinnor    0.804870\n",
      "1177          männen    0.771062\n",
      "1867         flickor    0.727492\n",
      "2288          pojkar    0.692823\n",
      "1626       kvinnorna    0.690541\n",
      "1793          killar    0.656109\n",
      "186         personer    0.655852\n",
      "33699  tonårsflickor    0.654169\n",
      "6182      tonåringar    0.639736\n",
      "1477          tjejer    0.609658\n"
     ]
    }
   ],
   "source": [
    "similars_män_s = n_most_similar(swectors, 10, 'män')\n",
    "print(similars_män_s)"
   ]
  },
  {
   "cell_type": "code",
   "execution_count": 41,
   "metadata": {},
   "outputs": [
    {
     "name": "stdout",
     "output_type": "stream",
     "text": [
      "not filtered\n",
      "Time elapsed:  15.799741268157959\n",
      "           word  similarity\n",
      "1325        män    1.000000\n",
      "1211    kvinnor    0.903146\n",
      "5369     karlar    0.751930\n",
      "5456     männen    0.721142\n",
      "1615     killar    0.718297\n",
      "6734  kvinnorna    0.683599\n",
      "2570     mammor    0.664039\n",
      "957      tjejer    0.645968\n",
      "5301     pappor    0.638359\n",
      "487   människor    0.629805\n",
      "2897   svenskar    0.584532\n"
     ]
    }
   ],
   "source": [
    "similars_män_fam = n_most_similar(familjevectors, 10, 'män')\n",
    "print(similars_män_fam)"
   ]
  },
  {
   "cell_type": "code",
   "execution_count": 42,
   "metadata": {},
   "outputs": [
    {
     "name": "stdout",
     "output_type": "stream",
     "text": [
      "not filtered\n",
      "Time elapsed:  29.270676851272583\n",
      "            word  similarity\n",
      "257          män    1.000000\n",
      "217      kvinnor    0.917956\n",
      "1760      männen    0.794857\n",
      "263       killar    0.760381\n",
      "1649   kvinnorna    0.739334\n",
      "7537      karlar    0.714033\n",
      "2552     flickor    0.698970\n",
      "160       tjejer    0.689911\n",
      "187    människor    0.672047\n",
      "3079      pojkar    0.670901\n",
      "3618  feminister    0.660804\n"
     ]
    }
   ],
   "source": [
    "similars_män_flash = n_most_similar(flashvectors, 10, 'män')\n",
    "print(similars_män_flash)"
   ]
  },
  {
   "cell_type": "markdown",
   "metadata": {},
   "source": [
    "## Filtering out all adjectives in the word embeddings\n",
    "To see bias in adjectives, the dataframe with the swectors is filtered to only keep words that are in the dataframe with adjectves from Språkrådet."
   ]
  },
  {
   "cell_type": "code",
   "execution_count": 24,
   "metadata": {},
   "outputs": [],
   "source": [
    "with bz2.open(\"data/adjektiv.txt.bz2\") as source:\n",
    "    adjectives = pd.read_csv(source)\n",
    "    \n",
    "swectors_filtered = swectors.loc[swectors['word'].isin(adjectives['Word'])]\n",
    "\n",
    "familje_filtered = familjevectors.loc[familjevectors['word'].isin(adjectives['Word'])]\n",
    "\n",
    "flash_filtered = flashvectors.loc[flashvectors['word'].isin(adjectives['Word'])]"
   ]
  },
  {
   "cell_type": "code",
   "execution_count": 26,
   "metadata": {},
   "outputs": [
    {
     "name": "stdout",
     "output_type": "stream",
     "text": [
      "swectors: (14706, 301)\n",
      "familjeliv: (8591, 301)\n",
      "flashback: (15820, 301)\n"
     ]
    }
   ],
   "source": [
    "print(\"swectors:\", swectors_filtered.shape)\n",
    "print(\"familjeliv:\", familje_filtered.shape)\n",
    "print(\"flashback:\", flash_filtered.shape)"
   ]
  },
  {
   "cell_type": "code",
   "execution_count": 30,
   "metadata": {},
   "outputs": [
    {
     "name": "stdout",
     "output_type": "stream",
     "text": [
      "filtered\n",
      "Time elapsed:  2.275986433029175\n",
      "                  word  similarity\n",
      "24762     prostituerad    0.474156\n",
      "11113          anhörig    0.405700\n",
      "61483   mordmisstänkte    0.405525\n",
      "15205             döde    0.404474\n",
      "4035          sexuellt    0.392038\n",
      "12493      minderåriga    0.381626\n",
      "90384         anhörige    0.373552\n",
      "3450          sexuella    0.365668\n",
      "28865         skyldige    0.361844\n",
      "79494      mordåtalade    0.357744\n",
      "154091         demente    0.349829\n"
     ]
    }
   ],
   "source": [
    "similars_kvinna_adj_s = n_most_similar(swectors, 10, 'kvinnan', swectors_filtered)\n",
    "print(similars_kvinna_adj_s)"
   ]
  },
  {
   "cell_type": "code",
   "execution_count": 32,
   "metadata": {},
   "outputs": [
    {
     "name": "stdout",
     "output_type": "stream",
     "text": [
      "filtered\n",
      "Time elapsed:  1.379850149154663\n",
      "               word  similarity\n",
      "3115          andre    0.423743\n",
      "32237      osynlige    0.391812\n",
      "88839       stilige    0.353628\n",
      "16825           nye    0.348560\n",
      "40508        blinde    0.341302\n",
      "28981          döde    0.325323\n",
      "22942  prostituerad    0.318310\n",
      "6166      kvinnliga    0.316340\n",
      "16734        förste    0.313463\n",
      "73205   anglosaxisk    0.311411\n",
      "7659         blonda    0.310431\n"
     ]
    }
   ],
   "source": [
    "similars_kvinna_adj_fam = n_most_similar(familjevectors, 10, 'kvinnan', familje_filtered)\n",
    "print(similars_kvinna_adj_fam)"
   ]
  },
  {
   "cell_type": "code",
   "execution_count": 33,
   "metadata": {},
   "outputs": [
    {
     "name": "stdout",
     "output_type": "stream",
     "text": [
      "filtered\n",
      "Time elapsed:  2.428054094314575\n",
      "                 word  similarity\n",
      "2611            andre    0.438010\n",
      "108294          nakne    0.388559\n",
      "24685     patriarkala    0.368643\n",
      "86966       dominante    0.351911\n",
      "7655    västerländska    0.332195\n",
      "20863        skyldige    0.329829\n",
      "155707      välklädde    0.325224\n",
      "59242       muslimske    0.322968\n",
      "13301      undergiven    0.321945\n",
      "35809      sistnämnde    0.321732\n",
      "10495       dominanta    0.315187\n"
     ]
    }
   ],
   "source": [
    "similars_kvinna_adj_flash = n_most_similar(flashvectors, 10, 'kvinnan', flash_filtered)\n",
    "print(similars_kvinna_adj_flash)"
   ]
  },
  {
   "cell_type": "code",
   "execution_count": 34,
   "metadata": {},
   "outputs": [
    {
     "name": "stdout",
     "output_type": "stream",
     "text": [
      "filtered\n",
      "Time elapsed:  2.2308168411254883\n",
      "                  word  similarity\n",
      "82054     värnpliktige    0.481998\n",
      "24762     prostituerad    0.423663\n",
      "28865         skyldige    0.420797\n",
      "61483   mordmisstänkte    0.402562\n",
      "15205             döde    0.400092\n",
      "3281             andre    0.398971\n",
      "72226  huvudmisstänkte    0.393731\n",
      "37183       medåtalade    0.377811\n",
      "79494      mordåtalade    0.369781\n",
      "12493      minderåriga    0.359776\n",
      "4035          sexuellt    0.351787\n"
     ]
    }
   ],
   "source": [
    "similars_man_adj_s = n_most_similar(swectors, 10, 'mannen', swectors_filtered)\n",
    "print(similars_man_adj_s)"
   ]
  },
  {
   "cell_type": "code",
   "execution_count": 35,
   "metadata": {},
   "outputs": [
    {
     "name": "stdout",
     "output_type": "stream",
     "text": [
      "filtered\n",
      "Time elapsed:  1.3085579872131348\n",
      "             word  similarity\n",
      "3115        andre    0.426721\n",
      "10725      äldste    0.383851\n",
      "2607        lille    0.334098\n",
      "12527       gamle    0.318669\n",
      "60637       elake    0.306949\n",
      "16734      förste    0.302364\n",
      "2425       äldsta    0.301359\n",
      "7612   stationära    0.292554\n",
      "15601      yngste    0.290779\n",
      "40508      blinde    0.284775\n",
      "4204       yngsta    0.282013\n"
     ]
    }
   ],
   "source": [
    "similars_man_adj_fam = n_most_similar(familjevectors, 10, 'mannen', familje_filtered)\n",
    "print(similars_man_adj_fam)"
   ]
  },
  {
   "cell_type": "code",
   "execution_count": 36,
   "metadata": {},
   "outputs": [
    {
     "name": "stdout",
     "output_type": "stream",
     "text": [
      "filtered\n",
      "Time elapsed:  2.421638250350952\n",
      "                 word  similarity\n",
      "2611            andre    0.474595\n",
      "108294          nakne    0.416109\n",
      "35809      sistnämnde    0.409220\n",
      "18900            fete    0.407243\n",
      "61824           mörke    0.392290\n",
      "9628             ende    0.386657\n",
      "20863        skyldige    0.382801\n",
      "150112  västerländske    0.380523\n",
      "25814          starke    0.379380\n",
      "86966       dominante    0.371991\n",
      "10478          förste    0.370181\n"
     ]
    }
   ],
   "source": [
    "similars_man_adj_flash = n_most_similar(flashvectors, 10, 'mannen', flash_filtered)\n",
    "print(similars_man_adj_flash)"
   ]
  },
  {
   "cell_type": "code",
   "execution_count": null,
   "metadata": {},
   "outputs": [],
   "source": []
  }
 ],
 "metadata": {
  "interpreter": {
   "hash": "24babb8090f6adb7489137adcc4330d8f14075431c3d79f349a9ea8acd80e777"
  },
  "kernelspec": {
   "display_name": "Python 3.8.10 ('env': venv)",
   "language": "python",
   "name": "python3"
  },
  "language_info": {
   "codemirror_mode": {
    "name": "ipython",
    "version": 3
   },
   "file_extension": ".py",
   "mimetype": "text/x-python",
   "name": "python",
   "nbconvert_exporter": "python",
   "pygments_lexer": "ipython3",
   "version": "3.8.10"
  }
 },
 "nbformat": 4,
 "nbformat_minor": 4
}
